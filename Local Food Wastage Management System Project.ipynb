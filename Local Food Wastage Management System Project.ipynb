{
 "cells": [
  {
   "cell_type": "markdown",
   "id": "36bcde93-0606-457d-8f3e-2c098d09b61b",
   "metadata": {},
   "source": [
    "# **Project Name**  - Local Food Wastage Management System"
   ]
  },
  {
   "cell_type": "markdown",
   "id": "2394c232-aed7-40b9-8dee-13c49351b116",
   "metadata": {},
   "source": [
    "##### **Project Type**   - SQL,EDA\n",
    "##### **Contribution**   - Individual\n",
    "##### **Team Member 1 -**  Gade Pavan Kumar Reddy"
   ]
  },
  {
   "cell_type": "markdown",
   "id": "5464b93d-4374-4b55-8762-5a80adad42ba",
   "metadata": {},
   "source": [
    "# **Project Summary -**"
   ]
  },
  {
   "cell_type": "markdown",
   "id": "cbca2d58-ee62-48a1-b687-78cac2c33a1f",
   "metadata": {},
   "source": [
    "The Local Food Wastage Management System is a data-driven initiative aimed at minimising food wastage by efficiently connecting surplus food providers with receivers in need. Using a structured SQL database supported by Python for data handling and Streamlit for interactivity, the system processes data from four primary sources: Providers, Receivers, Food Listings, and Claims. Analytical queries and visualisations provide deep insights into the ecosystem of food donations and distribution.\r\n",
    "\r\n",
    "From the geographic analysis, data from 1,878 cities shows an uneven distribution of providers and receivers — many locations have only one or the other. For example, Aaronshire has only receivers, while Adambury has only providers. This gap indicates the need for cross-city logistics to connect surplus food with demand areas.\r\n",
    "\r\n",
    "Provider type analysis revealed that restaurants are the largest contributors, donating a total of 6,923 units of food. This underlines their strategic importance in waste reduction campaigns. Contact information, such as that for Greene-Garcia illowviewmbai, adds operational value by enabling direct coordination.\r\n",
    "\r\n",
    "On the receiver side, a small group such as William Frederick, Scott Hunter, and Matthew Webb leads in claims made (five each), showing high engagement and reliability in the distribution network.\r\n",
    "\r\n",
    "From the availability perspective, total food stored in the system amounts to 25,794 units, with South Kathryn having the most listings (6). Food type distribution is balanced — Vegetarian (336 listings), Vegan (334), and Non-Vegetarian (330) — indicating diverse menu availability aligned with varying dietary preferences.\r\n",
    "\r\n",
    "In claims and distribution, the majority of food claims are distributed across many items, with no single food item dominating demand. Barry Group emerges as the provider with the highest number of completed claims (5), suggesting a good alignment between their supply and receiver needs. The claim status breakdown — Completed (33.9%), Cancelled (33.6%), Pending (32.5%) — highlights operational inefficiencies, particularly the high cancellation rate, possibly due to expiry or delivery constraints.\r\n",
    "\r\n",
    "From an insights perspective, the average food quantity per claim varies considerably — some receivers, like Aaron Scott and William Barnes, handle significantly larger volumes, suggesting that they cater to bigger communities or possess larger storage/distribution capabilities. Breakfast tops as the most claimed meal type with 278 claims, implying higher morning demand or logistic convenience. In cumulative donations, Miller Inc leads with 217 units, followed by Barry Group, Evans, Wright and Mitchell, Smith Group, and Campbell LLC.\r\n",
    "\r\n",
    "Overall, the system identifies clear priorities for optimisation: matching providers with underserved cities, reducing cancellations with improved coordination, strengthening ties with top-performing providers and receivers, and aligning food types and meal times with observed demand trends. By bridging the gap between surplus and need through robust data analysis, this project enhances both the efficiency and reach of food redistribution, contributing meaningfully to waste reduction and social welfare."
   ]
  },
  {
   "cell_type": "markdown",
   "id": "8105db12-2a8c-4bf1-af12-ffdd186c04a6",
   "metadata": {},
   "source": [
    "# **GitHub Link -**"
   ]
  },
  {
   "cell_type": "markdown",
   "id": "c962bba6-56cf-4b80-bbc3-05235e34eaac",
   "metadata": {},
   "source": []
  },
  {
   "cell_type": "markdown",
   "id": "fea7ddcc-0c23-4f74-928a-a4b9bbf7a93b",
   "metadata": {},
   "source": [
    "# **Problem Statement**"
   ]
  },
  {
   "cell_type": "markdown",
   "id": "4e860f36-e7a6-44fa-8c0b-0257aabcfc13",
   "metadata": {},
   "source": [
    "Food wastage remains a critical issue worldwide, with substantial quantities of edible food being discarded by restaurants, grocery stores, and households, while millions face hunger and food insecurity. The lack of an organised, transparent, and data-driven mechanism often prevents surplus food from reaching those in need. Current redistribution efforts are fragmented, with minimal tracking of donations, expiry dates, or demand patterns.\r\n",
    "\r\n",
    "This project aims to create a Local Food Wastage Management System that bridges the gap between surplus food providers and beneficiaries by storing, analysing, and visualising donation and claim data. It seeks to streamline redistribution, reduce wastage, and ensure timely access to food through an interactive platform supporting both operational management and analytical insights."
   ]
  },
  {
   "cell_type": "markdown",
   "id": "2c5efc43-8fb1-4b19-88f8-b941d482c30b",
   "metadata": {},
   "source": [
    "# ***Let's Begin !***"
   ]
  },
  {
   "cell_type": "markdown",
   "id": "992e3a57-3820-45a0-bdd1-09db314e4916",
   "metadata": {},
   "source": [
    "## Step 1: Imports & Configuration"
   ]
  },
  {
   "cell_type": "code",
   "execution_count": 2,
   "id": "53852241-ae05-49fc-8cf7-4e6da2035432",
   "metadata": {},
   "outputs": [],
   "source": [
    "import pandas as pd\n",
    "import sqlite3\n",
    "import matplotlib.pyplot as plt\n",
    "import seaborn as sns\n",
    "import warnings\n",
    "warnings.filterwarnings('ignore')"
   ]
  },
  {
   "cell_type": "markdown",
   "id": "3920ae3e-07f6-43d1-adbd-03ed60c7f521",
   "metadata": {},
   "source": [
    "## Step 2: Load CSV Data into SQLite"
   ]
  },
  {
   "cell_type": "code",
   "execution_count": 3,
   "id": "59f1f61a-10f8-43c7-8bb4-45025820403c",
   "metadata": {},
   "outputs": [
    {
     "name": "stdout",
     "output_type": "stream",
     "text": [
      "✅ Data loaded into SQLite database\n"
     ]
    }
   ],
   "source": [
    "DB_NAME = \"food_wastage.db\"\n",
    "conn = sqlite3.connect(DB_NAME)\n",
    "\n",
    "# Load CSV files\n",
    "providers_df = pd.read_csv(\"providers_data.csv\")\n",
    "receivers_df = pd.read_csv(\"receivers_data.csv\")\n",
    "food_listings_df = pd.read_csv(\"food_listings_data.csv\")\n",
    "claims_df = pd.read_csv(\"claims_data.csv\")\n",
    "\n",
    "# Save to SQL tables\n",
    "providers_df.to_sql(\"providers\", conn, if_exists=\"replace\", index=False)\n",
    "receivers_df.to_sql(\"receivers\", conn, if_exists=\"replace\", index=False)\n",
    "food_listings_df.to_sql(\"food_listings\", conn, if_exists=\"replace\", index=False)\n",
    "claims_df.to_sql(\"claims\", conn, if_exists=\"replace\", index=False)\n",
    "\n",
    "print(\"✅ Data loaded into SQLite database\")"
   ]
  },
  {
   "cell_type": "markdown",
   "id": "bbb1126a-1ed1-484e-b420-df4aeb9e04a6",
   "metadata": {},
   "source": [
    "## Step 3: Define Core SQL Queries"
   ]
  },
  {
   "cell_type": "code",
   "execution_count": 4,
   "id": "8331335b-7837-45b0-ab6a-4595d48498c5",
   "metadata": {},
   "outputs": [],
   "source": [
    "QUERIES = {\n",
    "    \"Providers & Receivers per City\": \"\"\"\n",
    "        SELECT city, \n",
    "               COUNT(DISTINCT provider_id) AS total_providers,\n",
    "               COUNT(DISTINCT receiver_id) AS total_receivers\n",
    "        FROM (\n",
    "            SELECT city, provider_id, NULL as receiver_id FROM providers\n",
    "            UNION ALL\n",
    "            SELECT city, NULL, receiver_id FROM receivers\n",
    "        ) AS combined\n",
    "        GROUP BY city\n",
    "    \"\"\",\n",
    "    \"Provider type contributing most food\": \"\"\"\n",
    "        SELECT provider_type, SUM(quantity) AS total_quantity\n",
    "        FROM food_listings\n",
    "        GROUP BY provider_type\n",
    "        ORDER BY total_quantity DESC\n",
    "        LIMIT 1\n",
    "    \"\"\",\n",
    "    \"Contact Information of food providers from specific city\": \"\"\"\n",
    "        SELECT name, contact \n",
    "        FROM providers\n",
    "        WHERE city = 'Mooreview'\n",
    "    \"\"\",\n",
    "    \"Receivers with most food claims\": \"\"\"\n",
    "        SELECT r.name, COUNT(c.claim_id) AS total_claims\n",
    "        FROM claims c\n",
    "        JOIN receivers r ON c.receiver_id = r.receiver_id\n",
    "        GROUP BY r.name\n",
    "        ORDER BY total_claims DESC\n",
    "    \"\"\",\n",
    "    \"Total food available\": \"\"\"\n",
    "        SELECT SUM(quantity) AS total_available_food\n",
    "        FROM food_listings\n",
    "    \"\"\",\n",
    "    \"City with highest number of food listings\": \"\"\"\n",
    "        SELECT location, COUNT(food_id) AS total_listings\n",
    "        FROM food_listings\n",
    "        GROUP BY location\n",
    "        ORDER BY total_listings DESC\n",
    "        LIMIT 1\n",
    "    \"\"\",\n",
    "    \"Most common food types\": \"\"\"\n",
    "        SELECT food_type, COUNT(food_id) AS count\n",
    "        FROM food_listings\n",
    "        GROUP BY food_type\n",
    "        ORDER BY count DESC\n",
    "    \"\"\",\n",
    "    \"Number of claims per food item\": \"\"\"\n",
    "        SELECT food_id, COUNT(claim_id) AS total_claims\n",
    "        FROM claims\n",
    "        GROUP BY food_id\n",
    "    \"\"\",\n",
    "    \"Provider with highest successful claims\": \"\"\"\n",
    "        SELECT p.name, COUNT(c.claim_id) AS completed_claims\n",
    "        FROM claims c\n",
    "        JOIN food_listings f ON c.food_id = f.food_id\n",
    "        JOIN providers p ON f.provider_id = p.provider_id\n",
    "        WHERE c.status = 'Completed'\n",
    "        GROUP BY p.name\n",
    "        ORDER BY completed_claims DESC\n",
    "        LIMIT 1\n",
    "    \"\"\",\n",
    "    \"Claim status percentage\": \"\"\"\n",
    "        SELECT status, \n",
    "               ROUND(COUNT(*) * 100.0 / (SELECT COUNT(*) FROM claims), 2) AS percentage\n",
    "        FROM claims\n",
    "        GROUP BY status\n",
    "    \"\"\",\n",
    "    \"Average quantity claimed per receiver\": \"\"\"\n",
    "        SELECT r.name, AVG(f.quantity) AS avg_claim_quantity\n",
    "        FROM claims c\n",
    "        JOIN receivers r ON c.receiver_id = r.receiver_id\n",
    "        JOIN food_listings f ON c.food_id = f.food_id\n",
    "        GROUP BY r.name\n",
    "    \"\"\",\n",
    "    \"Most claimed meal type\": \"\"\"\n",
    "        SELECT meal_type, COUNT(c.claim_id) AS total_claims\n",
    "        FROM claims c\n",
    "        JOIN food_listings f ON c.food_id = f.food_id\n",
    "        GROUP BY meal_type\n",
    "        ORDER BY total_claims DESC\n",
    "        LIMIT 1\n",
    "    \"\"\",\n",
    "    \"Total quantity donated by each provider\": \"\"\"\n",
    "        SELECT p.name, SUM(f.quantity) AS total_donated\n",
    "        FROM food_listings f\n",
    "        JOIN providers p ON f.provider_id = p.provider_id\n",
    "        GROUP BY p.name\n",
    "        ORDER BY total_donated DESC\n",
    "    \"\"\"\n",
    "}"
   ]
  },
  {
   "cell_type": "markdown",
   "id": "5c02e0d9-383d-4bec-9648-c7611d1db62e",
   "metadata": {},
   "source": [
    "## Step 4: Run Queries"
   ]
  },
  {
   "cell_type": "code",
   "execution_count": 5,
   "id": "76d5dc10-a1b4-482f-a838-6eb4ff9f76ff",
   "metadata": {},
   "outputs": [],
   "source": [
    "def run_query(query):\n",
    "    return pd.read_sql(query, conn)"
   ]
  },
  {
   "cell_type": "markdown",
   "id": "52029266-e4fa-4927-969a-548bb21ea0aa",
   "metadata": {},
   "source": [
    "## Step 5: Execute and Display Query Results"
   ]
  },
  {
   "cell_type": "code",
   "execution_count": 6,
   "id": "361e27a0-4e21-41bd-9a45-541affe5f419",
   "metadata": {},
   "outputs": [
    {
     "name": "stdout",
     "output_type": "stream",
     "text": [
      "\n",
      "📊 Providers & Receivers per City\n"
     ]
    },
    {
     "data": {
      "text/html": [
       "<div>\n",
       "<style scoped>\n",
       "    .dataframe tbody tr th:only-of-type {\n",
       "        vertical-align: middle;\n",
       "    }\n",
       "\n",
       "    .dataframe tbody tr th {\n",
       "        vertical-align: top;\n",
       "    }\n",
       "\n",
       "    .dataframe thead th {\n",
       "        text-align: right;\n",
       "    }\n",
       "</style>\n",
       "<table border=\"1\" class=\"dataframe\">\n",
       "  <thead>\n",
       "    <tr style=\"text-align: right;\">\n",
       "      <th></th>\n",
       "      <th>city</th>\n",
       "      <th>total_providers</th>\n",
       "      <th>total_receivers</th>\n",
       "    </tr>\n",
       "  </thead>\n",
       "  <tbody>\n",
       "    <tr>\n",
       "      <th>0</th>\n",
       "      <td>Aaronshire</td>\n",
       "      <td>0</td>\n",
       "      <td>1</td>\n",
       "    </tr>\n",
       "    <tr>\n",
       "      <th>1</th>\n",
       "      <td>Adambury</td>\n",
       "      <td>1</td>\n",
       "      <td>0</td>\n",
       "    </tr>\n",
       "    <tr>\n",
       "      <th>2</th>\n",
       "      <td>Adamland</td>\n",
       "      <td>0</td>\n",
       "      <td>1</td>\n",
       "    </tr>\n",
       "    <tr>\n",
       "      <th>3</th>\n",
       "      <td>Adamsview</td>\n",
       "      <td>1</td>\n",
       "      <td>0</td>\n",
       "    </tr>\n",
       "    <tr>\n",
       "      <th>4</th>\n",
       "      <td>Adamsville</td>\n",
       "      <td>1</td>\n",
       "      <td>0</td>\n",
       "    </tr>\n",
       "    <tr>\n",
       "      <th>...</th>\n",
       "      <td>...</td>\n",
       "      <td>...</td>\n",
       "      <td>...</td>\n",
       "    </tr>\n",
       "    <tr>\n",
       "      <th>1873</th>\n",
       "      <td>Yatesside</td>\n",
       "      <td>1</td>\n",
       "      <td>0</td>\n",
       "    </tr>\n",
       "    <tr>\n",
       "      <th>1874</th>\n",
       "      <td>Youngchester</td>\n",
       "      <td>1</td>\n",
       "      <td>0</td>\n",
       "    </tr>\n",
       "    <tr>\n",
       "      <th>1875</th>\n",
       "      <td>Zacharyview</td>\n",
       "      <td>0</td>\n",
       "      <td>1</td>\n",
       "    </tr>\n",
       "    <tr>\n",
       "      <th>1876</th>\n",
       "      <td>Zimmermanton</td>\n",
       "      <td>1</td>\n",
       "      <td>0</td>\n",
       "    </tr>\n",
       "    <tr>\n",
       "      <th>1877</th>\n",
       "      <td>Zimmermanville</td>\n",
       "      <td>1</td>\n",
       "      <td>0</td>\n",
       "    </tr>\n",
       "  </tbody>\n",
       "</table>\n",
       "<p>1878 rows × 3 columns</p>\n",
       "</div>"
      ],
      "text/plain": [
       "                city  total_providers  total_receivers\n",
       "0         Aaronshire                0                1\n",
       "1           Adambury                1                0\n",
       "2           Adamland                0                1\n",
       "3          Adamsview                1                0\n",
       "4         Adamsville                1                0\n",
       "...              ...              ...              ...\n",
       "1873       Yatesside                1                0\n",
       "1874    Youngchester                1                0\n",
       "1875     Zacharyview                0                1\n",
       "1876    Zimmermanton                1                0\n",
       "1877  Zimmermanville                1                0\n",
       "\n",
       "[1878 rows x 3 columns]"
      ]
     },
     "metadata": {},
     "output_type": "display_data"
    },
    {
     "name": "stdout",
     "output_type": "stream",
     "text": [
      "\n",
      "📊 Provider type contributing most food\n"
     ]
    },
    {
     "data": {
      "text/html": [
       "<div>\n",
       "<style scoped>\n",
       "    .dataframe tbody tr th:only-of-type {\n",
       "        vertical-align: middle;\n",
       "    }\n",
       "\n",
       "    .dataframe tbody tr th {\n",
       "        vertical-align: top;\n",
       "    }\n",
       "\n",
       "    .dataframe thead th {\n",
       "        text-align: right;\n",
       "    }\n",
       "</style>\n",
       "<table border=\"1\" class=\"dataframe\">\n",
       "  <thead>\n",
       "    <tr style=\"text-align: right;\">\n",
       "      <th></th>\n",
       "      <th>Provider_Type</th>\n",
       "      <th>total_quantity</th>\n",
       "    </tr>\n",
       "  </thead>\n",
       "  <tbody>\n",
       "    <tr>\n",
       "      <th>0</th>\n",
       "      <td>Restaurant</td>\n",
       "      <td>6923</td>\n",
       "    </tr>\n",
       "  </tbody>\n",
       "</table>\n",
       "</div>"
      ],
      "text/plain": [
       "  Provider_Type  total_quantity\n",
       "0    Restaurant            6923"
      ]
     },
     "metadata": {},
     "output_type": "display_data"
    },
    {
     "name": "stdout",
     "output_type": "stream",
     "text": [
      "\n",
      "📊 Contact Information of food providers from specific city\n"
     ]
    },
    {
     "data": {
      "text/html": [
       "<div>\n",
       "<style scoped>\n",
       "    .dataframe tbody tr th:only-of-type {\n",
       "        vertical-align: middle;\n",
       "    }\n",
       "\n",
       "    .dataframe tbody tr th {\n",
       "        vertical-align: top;\n",
       "    }\n",
       "\n",
       "    .dataframe thead th {\n",
       "        text-align: right;\n",
       "    }\n",
       "</style>\n",
       "<table border=\"1\" class=\"dataframe\">\n",
       "  <thead>\n",
       "    <tr style=\"text-align: right;\">\n",
       "      <th></th>\n",
       "      <th>Name</th>\n",
       "      <th>Contact</th>\n",
       "    </tr>\n",
       "  </thead>\n",
       "  <tbody>\n",
       "    <tr>\n",
       "      <th>0</th>\n",
       "      <td>Greene-Garcia</td>\n",
       "      <td>155.846.6299</td>\n",
       "    </tr>\n",
       "  </tbody>\n",
       "</table>\n",
       "</div>"
      ],
      "text/plain": [
       "            Name       Contact\n",
       "0  Greene-Garcia  155.846.6299"
      ]
     },
     "metadata": {},
     "output_type": "display_data"
    },
    {
     "name": "stdout",
     "output_type": "stream",
     "text": [
      "\n",
      "📊 Receivers with most food claims\n"
     ]
    },
    {
     "data": {
      "text/html": [
       "<div>\n",
       "<style scoped>\n",
       "    .dataframe tbody tr th:only-of-type {\n",
       "        vertical-align: middle;\n",
       "    }\n",
       "\n",
       "    .dataframe tbody tr th {\n",
       "        vertical-align: top;\n",
       "    }\n",
       "\n",
       "    .dataframe thead th {\n",
       "        text-align: right;\n",
       "    }\n",
       "</style>\n",
       "<table border=\"1\" class=\"dataframe\">\n",
       "  <thead>\n",
       "    <tr style=\"text-align: right;\">\n",
       "      <th></th>\n",
       "      <th>Name</th>\n",
       "      <th>total_claims</th>\n",
       "    </tr>\n",
       "  </thead>\n",
       "  <tbody>\n",
       "    <tr>\n",
       "      <th>0</th>\n",
       "      <td>William Frederick</td>\n",
       "      <td>5</td>\n",
       "    </tr>\n",
       "    <tr>\n",
       "      <th>1</th>\n",
       "      <td>Scott Hunter</td>\n",
       "      <td>5</td>\n",
       "    </tr>\n",
       "    <tr>\n",
       "      <th>2</th>\n",
       "      <td>Matthew Webb</td>\n",
       "      <td>5</td>\n",
       "    </tr>\n",
       "    <tr>\n",
       "      <th>3</th>\n",
       "      <td>Anthony Garcia</td>\n",
       "      <td>5</td>\n",
       "    </tr>\n",
       "    <tr>\n",
       "      <th>4</th>\n",
       "      <td>Kristine Martin</td>\n",
       "      <td>4</td>\n",
       "    </tr>\n",
       "    <tr>\n",
       "      <th>...</th>\n",
       "      <td>...</td>\n",
       "      <td>...</td>\n",
       "    </tr>\n",
       "    <tr>\n",
       "      <th>615</th>\n",
       "      <td>Alex Leon</td>\n",
       "      <td>1</td>\n",
       "    </tr>\n",
       "    <tr>\n",
       "      <th>616</th>\n",
       "      <td>Alan Campbell</td>\n",
       "      <td>1</td>\n",
       "    </tr>\n",
       "    <tr>\n",
       "      <th>617</th>\n",
       "      <td>Adam Browning</td>\n",
       "      <td>1</td>\n",
       "    </tr>\n",
       "    <tr>\n",
       "      <th>618</th>\n",
       "      <td>Aaron Scott</td>\n",
       "      <td>1</td>\n",
       "    </tr>\n",
       "    <tr>\n",
       "      <th>619</th>\n",
       "      <td>Aaron Keller</td>\n",
       "      <td>1</td>\n",
       "    </tr>\n",
       "  </tbody>\n",
       "</table>\n",
       "<p>620 rows × 2 columns</p>\n",
       "</div>"
      ],
      "text/plain": [
       "                  Name  total_claims\n",
       "0    William Frederick             5\n",
       "1         Scott Hunter             5\n",
       "2         Matthew Webb             5\n",
       "3       Anthony Garcia             5\n",
       "4      Kristine Martin             4\n",
       "..                 ...           ...\n",
       "615          Alex Leon             1\n",
       "616      Alan Campbell             1\n",
       "617      Adam Browning             1\n",
       "618        Aaron Scott             1\n",
       "619       Aaron Keller             1\n",
       "\n",
       "[620 rows x 2 columns]"
      ]
     },
     "metadata": {},
     "output_type": "display_data"
    },
    {
     "name": "stdout",
     "output_type": "stream",
     "text": [
      "\n",
      "📊 Total food available\n"
     ]
    },
    {
     "data": {
      "text/html": [
       "<div>\n",
       "<style scoped>\n",
       "    .dataframe tbody tr th:only-of-type {\n",
       "        vertical-align: middle;\n",
       "    }\n",
       "\n",
       "    .dataframe tbody tr th {\n",
       "        vertical-align: top;\n",
       "    }\n",
       "\n",
       "    .dataframe thead th {\n",
       "        text-align: right;\n",
       "    }\n",
       "</style>\n",
       "<table border=\"1\" class=\"dataframe\">\n",
       "  <thead>\n",
       "    <tr style=\"text-align: right;\">\n",
       "      <th></th>\n",
       "      <th>total_available_food</th>\n",
       "    </tr>\n",
       "  </thead>\n",
       "  <tbody>\n",
       "    <tr>\n",
       "      <th>0</th>\n",
       "      <td>25794</td>\n",
       "    </tr>\n",
       "  </tbody>\n",
       "</table>\n",
       "</div>"
      ],
      "text/plain": [
       "   total_available_food\n",
       "0                 25794"
      ]
     },
     "metadata": {},
     "output_type": "display_data"
    },
    {
     "name": "stdout",
     "output_type": "stream",
     "text": [
      "\n",
      "📊 City with highest number of food listings\n"
     ]
    },
    {
     "data": {
      "text/html": [
       "<div>\n",
       "<style scoped>\n",
       "    .dataframe tbody tr th:only-of-type {\n",
       "        vertical-align: middle;\n",
       "    }\n",
       "\n",
       "    .dataframe tbody tr th {\n",
       "        vertical-align: top;\n",
       "    }\n",
       "\n",
       "    .dataframe thead th {\n",
       "        text-align: right;\n",
       "    }\n",
       "</style>\n",
       "<table border=\"1\" class=\"dataframe\">\n",
       "  <thead>\n",
       "    <tr style=\"text-align: right;\">\n",
       "      <th></th>\n",
       "      <th>Location</th>\n",
       "      <th>total_listings</th>\n",
       "    </tr>\n",
       "  </thead>\n",
       "  <tbody>\n",
       "    <tr>\n",
       "      <th>0</th>\n",
       "      <td>South Kathryn</td>\n",
       "      <td>6</td>\n",
       "    </tr>\n",
       "  </tbody>\n",
       "</table>\n",
       "</div>"
      ],
      "text/plain": [
       "        Location  total_listings\n",
       "0  South Kathryn               6"
      ]
     },
     "metadata": {},
     "output_type": "display_data"
    },
    {
     "name": "stdout",
     "output_type": "stream",
     "text": [
      "\n",
      "📊 Most common food types\n"
     ]
    },
    {
     "data": {
      "text/html": [
       "<div>\n",
       "<style scoped>\n",
       "    .dataframe tbody tr th:only-of-type {\n",
       "        vertical-align: middle;\n",
       "    }\n",
       "\n",
       "    .dataframe tbody tr th {\n",
       "        vertical-align: top;\n",
       "    }\n",
       "\n",
       "    .dataframe thead th {\n",
       "        text-align: right;\n",
       "    }\n",
       "</style>\n",
       "<table border=\"1\" class=\"dataframe\">\n",
       "  <thead>\n",
       "    <tr style=\"text-align: right;\">\n",
       "      <th></th>\n",
       "      <th>Food_Type</th>\n",
       "      <th>count</th>\n",
       "    </tr>\n",
       "  </thead>\n",
       "  <tbody>\n",
       "    <tr>\n",
       "      <th>0</th>\n",
       "      <td>Vegetarian</td>\n",
       "      <td>336</td>\n",
       "    </tr>\n",
       "    <tr>\n",
       "      <th>1</th>\n",
       "      <td>Vegan</td>\n",
       "      <td>334</td>\n",
       "    </tr>\n",
       "    <tr>\n",
       "      <th>2</th>\n",
       "      <td>Non-Vegetarian</td>\n",
       "      <td>330</td>\n",
       "    </tr>\n",
       "  </tbody>\n",
       "</table>\n",
       "</div>"
      ],
      "text/plain": [
       "        Food_Type  count\n",
       "0      Vegetarian    336\n",
       "1           Vegan    334\n",
       "2  Non-Vegetarian    330"
      ]
     },
     "metadata": {},
     "output_type": "display_data"
    },
    {
     "name": "stdout",
     "output_type": "stream",
     "text": [
      "\n",
      "📊 Number of claims per food item\n"
     ]
    },
    {
     "data": {
      "text/html": [
       "<div>\n",
       "<style scoped>\n",
       "    .dataframe tbody tr th:only-of-type {\n",
       "        vertical-align: middle;\n",
       "    }\n",
       "\n",
       "    .dataframe tbody tr th {\n",
       "        vertical-align: top;\n",
       "    }\n",
       "\n",
       "    .dataframe thead th {\n",
       "        text-align: right;\n",
       "    }\n",
       "</style>\n",
       "<table border=\"1\" class=\"dataframe\">\n",
       "  <thead>\n",
       "    <tr style=\"text-align: right;\">\n",
       "      <th></th>\n",
       "      <th>Food_ID</th>\n",
       "      <th>total_claims</th>\n",
       "    </tr>\n",
       "  </thead>\n",
       "  <tbody>\n",
       "    <tr>\n",
       "      <th>0</th>\n",
       "      <td>1</td>\n",
       "      <td>2</td>\n",
       "    </tr>\n",
       "    <tr>\n",
       "      <th>1</th>\n",
       "      <td>3</td>\n",
       "      <td>1</td>\n",
       "    </tr>\n",
       "    <tr>\n",
       "      <th>2</th>\n",
       "      <td>6</td>\n",
       "      <td>1</td>\n",
       "    </tr>\n",
       "    <tr>\n",
       "      <th>3</th>\n",
       "      <td>7</td>\n",
       "      <td>1</td>\n",
       "    </tr>\n",
       "    <tr>\n",
       "      <th>4</th>\n",
       "      <td>9</td>\n",
       "      <td>2</td>\n",
       "    </tr>\n",
       "    <tr>\n",
       "      <th>...</th>\n",
       "      <td>...</td>\n",
       "      <td>...</td>\n",
       "    </tr>\n",
       "    <tr>\n",
       "      <th>642</th>\n",
       "      <td>992</td>\n",
       "      <td>1</td>\n",
       "    </tr>\n",
       "    <tr>\n",
       "      <th>643</th>\n",
       "      <td>995</td>\n",
       "      <td>1</td>\n",
       "    </tr>\n",
       "    <tr>\n",
       "      <th>644</th>\n",
       "      <td>997</td>\n",
       "      <td>2</td>\n",
       "    </tr>\n",
       "    <tr>\n",
       "      <th>645</th>\n",
       "      <td>998</td>\n",
       "      <td>1</td>\n",
       "    </tr>\n",
       "    <tr>\n",
       "      <th>646</th>\n",
       "      <td>999</td>\n",
       "      <td>1</td>\n",
       "    </tr>\n",
       "  </tbody>\n",
       "</table>\n",
       "<p>647 rows × 2 columns</p>\n",
       "</div>"
      ],
      "text/plain": [
       "     Food_ID  total_claims\n",
       "0          1             2\n",
       "1          3             1\n",
       "2          6             1\n",
       "3          7             1\n",
       "4          9             2\n",
       "..       ...           ...\n",
       "642      992             1\n",
       "643      995             1\n",
       "644      997             2\n",
       "645      998             1\n",
       "646      999             1\n",
       "\n",
       "[647 rows x 2 columns]"
      ]
     },
     "metadata": {},
     "output_type": "display_data"
    },
    {
     "name": "stdout",
     "output_type": "stream",
     "text": [
      "\n",
      "📊 Provider with highest successful claims\n"
     ]
    },
    {
     "data": {
      "text/html": [
       "<div>\n",
       "<style scoped>\n",
       "    .dataframe tbody tr th:only-of-type {\n",
       "        vertical-align: middle;\n",
       "    }\n",
       "\n",
       "    .dataframe tbody tr th {\n",
       "        vertical-align: top;\n",
       "    }\n",
       "\n",
       "    .dataframe thead th {\n",
       "        text-align: right;\n",
       "    }\n",
       "</style>\n",
       "<table border=\"1\" class=\"dataframe\">\n",
       "  <thead>\n",
       "    <tr style=\"text-align: right;\">\n",
       "      <th></th>\n",
       "      <th>Name</th>\n",
       "      <th>completed_claims</th>\n",
       "    </tr>\n",
       "  </thead>\n",
       "  <tbody>\n",
       "    <tr>\n",
       "      <th>0</th>\n",
       "      <td>Barry Group</td>\n",
       "      <td>5</td>\n",
       "    </tr>\n",
       "  </tbody>\n",
       "</table>\n",
       "</div>"
      ],
      "text/plain": [
       "          Name  completed_claims\n",
       "0  Barry Group                 5"
      ]
     },
     "metadata": {},
     "output_type": "display_data"
    },
    {
     "name": "stdout",
     "output_type": "stream",
     "text": [
      "\n",
      "📊 Claim status percentage\n"
     ]
    },
    {
     "data": {
      "text/html": [
       "<div>\n",
       "<style scoped>\n",
       "    .dataframe tbody tr th:only-of-type {\n",
       "        vertical-align: middle;\n",
       "    }\n",
       "\n",
       "    .dataframe tbody tr th {\n",
       "        vertical-align: top;\n",
       "    }\n",
       "\n",
       "    .dataframe thead th {\n",
       "        text-align: right;\n",
       "    }\n",
       "</style>\n",
       "<table border=\"1\" class=\"dataframe\">\n",
       "  <thead>\n",
       "    <tr style=\"text-align: right;\">\n",
       "      <th></th>\n",
       "      <th>Status</th>\n",
       "      <th>percentage</th>\n",
       "    </tr>\n",
       "  </thead>\n",
       "  <tbody>\n",
       "    <tr>\n",
       "      <th>0</th>\n",
       "      <td>Cancelled</td>\n",
       "      <td>33.6</td>\n",
       "    </tr>\n",
       "    <tr>\n",
       "      <th>1</th>\n",
       "      <td>Completed</td>\n",
       "      <td>33.9</td>\n",
       "    </tr>\n",
       "    <tr>\n",
       "      <th>2</th>\n",
       "      <td>Pending</td>\n",
       "      <td>32.5</td>\n",
       "    </tr>\n",
       "  </tbody>\n",
       "</table>\n",
       "</div>"
      ],
      "text/plain": [
       "      Status  percentage\n",
       "0  Cancelled        33.6\n",
       "1  Completed        33.9\n",
       "2    Pending        32.5"
      ]
     },
     "metadata": {},
     "output_type": "display_data"
    },
    {
     "name": "stdout",
     "output_type": "stream",
     "text": [
      "\n",
      "📊 Average quantity claimed per receiver\n"
     ]
    },
    {
     "data": {
      "text/html": [
       "<div>\n",
       "<style scoped>\n",
       "    .dataframe tbody tr th:only-of-type {\n",
       "        vertical-align: middle;\n",
       "    }\n",
       "\n",
       "    .dataframe tbody tr th {\n",
       "        vertical-align: top;\n",
       "    }\n",
       "\n",
       "    .dataframe thead th {\n",
       "        text-align: right;\n",
       "    }\n",
       "</style>\n",
       "<table border=\"1\" class=\"dataframe\">\n",
       "  <thead>\n",
       "    <tr style=\"text-align: right;\">\n",
       "      <th></th>\n",
       "      <th>Name</th>\n",
       "      <th>avg_claim_quantity</th>\n",
       "    </tr>\n",
       "  </thead>\n",
       "  <tbody>\n",
       "    <tr>\n",
       "      <th>0</th>\n",
       "      <td>Aaron Keller</td>\n",
       "      <td>39.000000</td>\n",
       "    </tr>\n",
       "    <tr>\n",
       "      <th>1</th>\n",
       "      <td>Aaron Rios</td>\n",
       "      <td>21.000000</td>\n",
       "    </tr>\n",
       "    <tr>\n",
       "      <th>2</th>\n",
       "      <td>Aaron Scott</td>\n",
       "      <td>45.000000</td>\n",
       "    </tr>\n",
       "    <tr>\n",
       "      <th>3</th>\n",
       "      <td>Abigail Crawford</td>\n",
       "      <td>25.666667</td>\n",
       "    </tr>\n",
       "    <tr>\n",
       "      <th>4</th>\n",
       "      <td>Adam Browning</td>\n",
       "      <td>5.000000</td>\n",
       "    </tr>\n",
       "    <tr>\n",
       "      <th>...</th>\n",
       "      <td>...</td>\n",
       "      <td>...</td>\n",
       "    </tr>\n",
       "    <tr>\n",
       "      <th>615</th>\n",
       "      <td>William Barnes</td>\n",
       "      <td>47.000000</td>\n",
       "    </tr>\n",
       "    <tr>\n",
       "      <th>616</th>\n",
       "      <td>William Fox</td>\n",
       "      <td>12.000000</td>\n",
       "    </tr>\n",
       "    <tr>\n",
       "      <th>617</th>\n",
       "      <td>William Frederick</td>\n",
       "      <td>21.400000</td>\n",
       "    </tr>\n",
       "    <tr>\n",
       "      <th>618</th>\n",
       "      <td>Yvette Huffman</td>\n",
       "      <td>45.000000</td>\n",
       "    </tr>\n",
       "    <tr>\n",
       "      <th>619</th>\n",
       "      <td>Zachary Lewis</td>\n",
       "      <td>22.000000</td>\n",
       "    </tr>\n",
       "  </tbody>\n",
       "</table>\n",
       "<p>620 rows × 2 columns</p>\n",
       "</div>"
      ],
      "text/plain": [
       "                  Name  avg_claim_quantity\n",
       "0         Aaron Keller           39.000000\n",
       "1           Aaron Rios           21.000000\n",
       "2          Aaron Scott           45.000000\n",
       "3     Abigail Crawford           25.666667\n",
       "4        Adam Browning            5.000000\n",
       "..                 ...                 ...\n",
       "615     William Barnes           47.000000\n",
       "616        William Fox           12.000000\n",
       "617  William Frederick           21.400000\n",
       "618     Yvette Huffman           45.000000\n",
       "619      Zachary Lewis           22.000000\n",
       "\n",
       "[620 rows x 2 columns]"
      ]
     },
     "metadata": {},
     "output_type": "display_data"
    },
    {
     "name": "stdout",
     "output_type": "stream",
     "text": [
      "\n",
      "📊 Most claimed meal type\n"
     ]
    },
    {
     "data": {
      "text/html": [
       "<div>\n",
       "<style scoped>\n",
       "    .dataframe tbody tr th:only-of-type {\n",
       "        vertical-align: middle;\n",
       "    }\n",
       "\n",
       "    .dataframe tbody tr th {\n",
       "        vertical-align: top;\n",
       "    }\n",
       "\n",
       "    .dataframe thead th {\n",
       "        text-align: right;\n",
       "    }\n",
       "</style>\n",
       "<table border=\"1\" class=\"dataframe\">\n",
       "  <thead>\n",
       "    <tr style=\"text-align: right;\">\n",
       "      <th></th>\n",
       "      <th>Meal_Type</th>\n",
       "      <th>total_claims</th>\n",
       "    </tr>\n",
       "  </thead>\n",
       "  <tbody>\n",
       "    <tr>\n",
       "      <th>0</th>\n",
       "      <td>Breakfast</td>\n",
       "      <td>278</td>\n",
       "    </tr>\n",
       "  </tbody>\n",
       "</table>\n",
       "</div>"
      ],
      "text/plain": [
       "   Meal_Type  total_claims\n",
       "0  Breakfast           278"
      ]
     },
     "metadata": {},
     "output_type": "display_data"
    },
    {
     "name": "stdout",
     "output_type": "stream",
     "text": [
      "\n",
      "📊 Total quantity donated by each provider\n"
     ]
    },
    {
     "data": {
      "text/html": [
       "<div>\n",
       "<style scoped>\n",
       "    .dataframe tbody tr th:only-of-type {\n",
       "        vertical-align: middle;\n",
       "    }\n",
       "\n",
       "    .dataframe tbody tr th {\n",
       "        vertical-align: top;\n",
       "    }\n",
       "\n",
       "    .dataframe thead th {\n",
       "        text-align: right;\n",
       "    }\n",
       "</style>\n",
       "<table border=\"1\" class=\"dataframe\">\n",
       "  <thead>\n",
       "    <tr style=\"text-align: right;\">\n",
       "      <th></th>\n",
       "      <th>Name</th>\n",
       "      <th>total_donated</th>\n",
       "    </tr>\n",
       "  </thead>\n",
       "  <tbody>\n",
       "    <tr>\n",
       "      <th>0</th>\n",
       "      <td>Miller Inc</td>\n",
       "      <td>217</td>\n",
       "    </tr>\n",
       "    <tr>\n",
       "      <th>1</th>\n",
       "      <td>Barry Group</td>\n",
       "      <td>179</td>\n",
       "    </tr>\n",
       "    <tr>\n",
       "      <th>2</th>\n",
       "      <td>Evans, Wright and Mitchell</td>\n",
       "      <td>158</td>\n",
       "    </tr>\n",
       "    <tr>\n",
       "      <th>3</th>\n",
       "      <td>Smith Group</td>\n",
       "      <td>150</td>\n",
       "    </tr>\n",
       "    <tr>\n",
       "      <th>4</th>\n",
       "      <td>Campbell LLC</td>\n",
       "      <td>145</td>\n",
       "    </tr>\n",
       "    <tr>\n",
       "      <th>...</th>\n",
       "      <td>...</td>\n",
       "      <td>...</td>\n",
       "    </tr>\n",
       "    <tr>\n",
       "      <th>623</th>\n",
       "      <td>Reyes and Sons</td>\n",
       "      <td>1</td>\n",
       "    </tr>\n",
       "    <tr>\n",
       "      <th>624</th>\n",
       "      <td>Norris-Townsend</td>\n",
       "      <td>1</td>\n",
       "    </tr>\n",
       "    <tr>\n",
       "      <th>625</th>\n",
       "      <td>Mcgee PLC</td>\n",
       "      <td>1</td>\n",
       "    </tr>\n",
       "    <tr>\n",
       "      <th>626</th>\n",
       "      <td>Martinez, Armstrong and Carroll</td>\n",
       "      <td>1</td>\n",
       "    </tr>\n",
       "    <tr>\n",
       "      <th>627</th>\n",
       "      <td>Gonzales-Moore</td>\n",
       "      <td>1</td>\n",
       "    </tr>\n",
       "  </tbody>\n",
       "</table>\n",
       "<p>628 rows × 2 columns</p>\n",
       "</div>"
      ],
      "text/plain": [
       "                                Name  total_donated\n",
       "0                         Miller Inc            217\n",
       "1                        Barry Group            179\n",
       "2         Evans, Wright and Mitchell            158\n",
       "3                        Smith Group            150\n",
       "4                       Campbell LLC            145\n",
       "..                               ...            ...\n",
       "623                   Reyes and Sons              1\n",
       "624                  Norris-Townsend              1\n",
       "625                        Mcgee PLC              1\n",
       "626  Martinez, Armstrong and Carroll              1\n",
       "627                   Gonzales-Moore              1\n",
       "\n",
       "[628 rows x 2 columns]"
      ]
     },
     "metadata": {},
     "output_type": "display_data"
    }
   ],
   "source": [
    "for name, sql in QUERIES.items():\n",
    "    print(f\"\\n📊 {name}\")\n",
    "    df = run_query(sql)\n",
    "    display(df)"
   ]
  },
  {
   "cell_type": "markdown",
   "id": "0ef65ac8-955d-4047-983c-992db15489d2",
   "metadata": {},
   "source": [
    "## Step 6: Visualize Key Analytics"
   ]
  },
  {
   "cell_type": "markdown",
   "id": "ad29f221-07f9-4b6c-859e-f3d13729c4ba",
   "metadata": {},
   "source": [
    "### Chart 1 - Top 10 Receivers with Most Food Claims"
   ]
  },
  {
   "cell_type": "code",
   "execution_count": 19,
   "id": "c4b6915b-80ae-46eb-bd4f-edfbd2082551",
   "metadata": {},
   "outputs": [
    {
     "data": {
      "image/png": "[encoded data removed]",
      "text/plain": [
       "<Figure size 640x480 with 1 Axes>"
      ]
     },
     "metadata": {},
     "output_type": "display_data"
    }
   ],
   "source": [
    "df1 = run_query(QUERIES[\"Receivers with most food claims\"]).head(10)\n",
    "sns.barplot(data=df1, y='Name', x='total_claims', palette='cubehelix')\n",
    "plt.title(\"Top 10 Receivers with Most Food Claims\")\n",
    "plt.xlabel(\"Number of Claims\")\n",
    "plt.ylabel(\"Receiver\")\n",
    "plt.show()"
   ]
  },
  {
   "cell_type": "markdown",
   "id": "05aac62d-44af-450b-8d03-f1997a698071",
   "metadata": {},
   "source": [
    "### Chart 2 - Top 10 Cities by Number of Food Listings"
   ]
  },
  {
   "cell_type": "code",
   "execution_count": 20,
   "id": "cc574e5d-f261-4fa9-92ef-f80950c25da9",
   "metadata": {},
   "outputs": [
    {
     "data": {
      "image/png": "[encoded data removed]",
      "text/plain": [
       "<Figure size 640x480 with 1 Axes>"
      ]
     },
     "metadata": {},
     "output_type": "display_data"
    }
   ],
   "source": [
    "df2 = run_query(\"\"\"\n",
    "SELECT location, COUNT(food_id) as total_listings\n",
    "FROM food_listings\n",
    "GROUP BY location\n",
    "ORDER BY total_listings DESC\n",
    "LIMIT 10;\n",
    "\"\"\")\n",
    "sns.barplot(data=df2, y='Location', x='total_listings', palette='mako')\n",
    "plt.title(\"Top 10 Cities by Number of Food Listings\")\n",
    "plt.xlabel(\"Total Listings\")\n",
    "plt.show()"
   ]
  },
  {
   "cell_type": "markdown",
   "id": "c31868c8-c61b-4702-b37b-b4656cc469dc",
   "metadata": {},
   "source": [
    "### Chart 3 - Distribution of Food Types"
   ]
  },
  {
   "cell_type": "code",
   "execution_count": 9,
   "id": "042846bf-8e4a-474d-90bc-10ca06320ee1",
   "metadata": {},
   "outputs": [
    {
     "data": {
      "image/png": "[encoded data removed]",
      "text/plain": [
       "<Figure size 700x700 with 1 Axes>"
      ]
     },
     "metadata": {},
     "output_type": "display_data"
    }
   ],
   "source": [
    "df3 = run_query(QUERIES[\"Most common food types\"])\n",
    "plt.figure(figsize=(7,7))\n",
    "plt.pie(df3['count'], labels=df3['Food_Type'], autopct='%1.1f%%', startangle=140, colors=sns.color_palette(\"pastel\"))\n",
    "plt.title(\"Distribution of Food Types\")\n",
    "plt.axis('equal')\n",
    "plt.show()"
   ]
  },
  {
   "cell_type": "markdown",
   "id": "a568e7ee-f878-4ff4-958d-4563fe64b574",
   "metadata": {},
   "source": [
    "### Chart 4 - Claim Status Distribution"
   ]
  },
  {
   "cell_type": "code",
   "execution_count": 22,
   "id": "6f38df1e-a683-4eef-99de-1cb826a14507",
   "metadata": {},
   "outputs": [
    {
     "data": {
      "image/png": "[encoded data removed]",
      "text/plain": [
       "<Figure size 600x600 with 1 Axes>"
      ]
     },
     "metadata": {},
     "output_type": "display_data"
    }
   ],
   "source": [
    "# Pie chart - Claim status distribution\n",
    "df4 = run_query(QUERIES[\"Claim status percentage\"])\n",
    "plt.figure(figsize=(6,6))\n",
    "plt.pie(df4['percentage'], labels=df4['Status'], autopct='%1.1f%%', startangle=140, colors=sns.color_palette(\"coolwarm\"))\n",
    "plt.title(\"Claim Status Distribution\")\n",
    "plt.axis('equal')  # Equal aspect ratio for a perfect circle\n",
    "plt.show()"
   ]
  },
  {
   "cell_type": "markdown",
   "id": "d988d49a-a552-44ae-9c20-45df00a02f3b",
   "metadata": {},
   "source": [
    "### Chart 5 - Top 10 Providers by Food Donated Quantity"
   ]
  },
  {
   "cell_type": "code",
   "execution_count": 27,
   "id": "eef9ccbf-46cb-4438-ba3e-fff39bb85b9e",
   "metadata": {},
   "outputs": [
    {
     "data": {
      "image/png": "[encoded data removed]",
      "text/plain": [
       "<Figure size 640x480 with 1 Axes>"
      ]
     },
     "metadata": {},
     "output_type": "display_data"
    }
   ],
   "source": [
    "df5 = run_query(QUERIES[\"Total quantity donated by each provider\"]).head(10)\n",
    "sns.barplot(data=df5, x='total_donated', y='Name', palette='viridis')\n",
    "plt.title(\"Top 10 Providers by Food Donated Quantity\")\n",
    "plt.xlabel(\"Total Quantity Donated\")\n",
    "plt.ylabel(\"Provider\")\n",
    "plt.show()"
   ]
  },
  {
   "cell_type": "markdown",
   "id": "6cc77920-b8ad-4908-adc0-4bff60943186",
   "metadata": {},
   "source": [
    "### Chart 6 - Provider types that contributing food"
   ]
  },
  {
   "cell_type": "code",
   "execution_count": 23,
   "id": "77d0f133-3a9d-4428-9118-1787ed88c208",
   "metadata": {},
   "outputs": [
    {
     "data": {
      "image/png": "[encoded data removed]",
      "text/plain": [
       "<Figure size 640x480 with 1 Axes>"
      ]
     },
     "metadata": {},
     "output_type": "display_data"
    }
   ],
   "source": [
    "df6 = run_query(\"\"\"\n",
    "SELECT provider_type, SUM(quantity) AS total_quantity\n",
    "        FROM food_listings\n",
    "        GROUP BY provider_type\n",
    "        ORDER BY total_quantity DESC;\n",
    "\"\"\")\n",
    "sns.barplot(data=df6, x='Provider_Type', y='total_quantity', palette='rocket')\n",
    "plt.title(\"Provider types that contributing food\")\n",
    "plt.ylabel(\"Total Quantitys\")\n",
    "plt.xticks(rotation=45)\n",
    "plt.show()"
   ]
  },
  {
   "cell_type": "markdown",
   "id": "5efe1b98-9396-46cb-aba1-8b40eae3f3a6",
   "metadata": {},
   "source": [
    "# **Conclusion & Insights**"
   ]
  },
  {
   "cell_type": "markdown",
   "id": "606ae4f3-f6ba-4966-9578-6597a6b9a249",
   "metadata": {},
   "source": [
    "The analysis of the Local Food Wastage Management System database addressed 13 key operational and analytical questions, providing a holistic understanding of the food donation, listing, and claims patterns. Below is a summary of the findings and their implications.\n",
    "\n",
    "\n",
    "**1. How many food providers and receivers are there in each city?**\n",
    "\n",
    "Data across 1,878 cities shows highly uneven distribution. Many cities have either only providers, only receivers, or in some cases both. For example, Aaronshire has only 1 receiver and no providers, whereas Adambury has 1 provider but no receivers. This imbalance highlights geographic mismatches, suggesting the need to connect surplus providers in one location with receivers in neighbouring areas.\n",
    "\n",
    "**2. Which type of food provider contributes the most food?**\n",
    "\n",
    "Restaurants lead all provider types, donating a total of 6,923 units of food — indicating they are the primary contributors. This underscores the importance of engaging restaurant partners in waste reduction initiatives.\n",
    "\n",
    "**3. What is the contact information of food providers in a specific city?**\n",
    "\n",
    "For Millowview, an example provider is Greene-Garcia, with contact number 155.846.6299. Systematic access to such contact info enables faster coordination for claims and pickups.\n",
    "\n",
    "**4. Which receivers have claimed the most food?**\n",
    "\n",
    "Top receivers include William Frederick, Scott Hunter, Matthew Webb, Anthony Garcia, each with 5 claims, followed by Kristine Martin with 4. This suggests a small group of receivers are very active, potentially indicating operational efficiency or capacity to store/distribute more food.\n",
    "\n",
    "**5. What is the total quantity of food available from all providers?**\n",
    "\n",
    "At the time of analysis, there are 25,794 units of food available for distribution. This large volume reinforces the need for quick redistribution mechanisms to minimise spoilage.\n",
    "\n",
    "**6. Which city has the highest number of food listings?**\n",
    "\n",
    "South Kathryn leads with 6 active listings. This concentration could be leveraged by directing more receivers to that location.\n",
    "\n",
    "**7. What are the most commonly available food types?**\n",
    "\n",
    "Availability is fairly balanced:\n",
    "\n",
    "Vegetarian: 336 listings\n",
    "\n",
    "Vegan: 334 listings\n",
    "\n",
    "Non-Vegetarian: 330 listings\n",
    "\n",
    "This variety ensures dietary preferences can be met, but also indicates there’s no single dominant category.\n",
    "\n",
    "**8. How many food claims have been made for each food item?**\n",
    "\n",
    "Claims are widely distributed across many food items, with most items having 1–2 claims. This suggests demand is dispersed rather than concentrated on a few specific foods.\n",
    "\n",
    "**9. Which provider has had the highest number of successful food claims?**\n",
    "\n",
    "Barry Group tops the list with 5 completed claims, reflecting strong receiver trust or a good match between their offerings and demand.\n",
    "\n",
    "**10. Percentage of food claims completed vs pending vs canceled**\n",
    "\n",
    "The distribution is:\n",
    "\n",
    "Completed: 33.9%\n",
    "\n",
    "Cancelled: 33.6%\n",
    "\n",
    "Pending: 32.5%\n",
    "\n",
    "The almost equal share of each category reveals inefficiencies — especially the high cancellation rate, which might be due to expiry before pickup or logistical issues.\n",
    "\n",
    "**11. What is the average quantity of food claimed per receiver?**\n",
    "\n",
    "Claim sizes vary widely — e.g., Aaron Scott averages 45 units per claim, William Barnes 47 units, whereas others average much less. This suggests some receivers have higher logistics capacity or serve larger communities.\n",
    "\n",
    "**12. Which meal type is claimed the most?**\n",
    "\n",
    "Breakfast is the top claimed meal type with 278 claims, indicating either higher morning demand or ease of distribution before the day starts.\n",
    "\n",
    "**13. What is the total quantity of food donated by each provider?**\n",
    "\n",
    "Miller Inc leads with 217 units, followed by Barry Group (179), Evans, Wright and Mitchell (158), Smith Group (150), and Campbell LLC (145). This reflects steady contributions from specific providers, indicating potential to strengthen partnerships with them.\n",
    "\n",
    "**Overall Summary**\n",
    "\n",
    "This analysis shows that while there is substantial food availability across many cities and types, mismatched geographic distribution, high cancellations, and imbalanced receiver activity are areas for optimisation. Restaurants remain the backbone of contributions, breakfast is in highest demand, and a few providers and receivers drive much of the action. To improve efficiency, the system should focus on:\n",
    "\n",
    "-> Matching cities lacking receivers with nearby providers (and vice versa).\n",
    "\n",
    "-> Reducing cancellations through better scheduling, storage, and transport.\n",
    "\n",
    "-> Leveraging top providers and receivers as strategic partners.\n",
    "\n",
    "-> Monitoring meal type trends to tailor offerings for maximum utilisation."
   ]
  },
  {
   "cell_type": "code",
   "execution_count": null,
   "id": "3c6ff76c-dfd1-4910-9eab-a5580b64a1d9",
   "metadata": {},
   "outputs": [],
   "source": []
  }
 ],
 "metadata": {
  "kernelspec": {
   "display_name": "Python 3 (ipykernel)",
   "language": "python",
   "name": "python3"
  },
  "language_info": {
   "codemirror_mode": {
    "name": "ipython",
    "version": 3
   },
   "file_extension": ".py",
   "mimetype": "text/x-python",
   "name": "python",
   "nbconvert_exporter": "python",
   "pygments_lexer": "ipython3",
   "version": "3.11.7"
  }
 },
 "nbformat": 4,
 "nbformat_minor": 5
}
